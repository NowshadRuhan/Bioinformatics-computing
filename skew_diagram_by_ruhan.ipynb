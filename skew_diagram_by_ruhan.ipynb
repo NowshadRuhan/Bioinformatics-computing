{
 "cells": [
  {
   "cell_type": "code",
   "execution_count": 8,
   "metadata": {},
   "outputs": [
    {
     "name": "stdout",
     "output_type": "stream",
     "text": [
      "Enter Your Dna String :\n",
      "ATCCCGGTACGGC\n",
      "DNA STRING LENGTH :  13\n",
      "[0, 0, 0, -1, -2, -3, -2, -1, -1, -1, -2, -1, 0, -1]\n",
      "[0, 1, 2, 3, 4, 5, 6, 7, 8, 9, 10, 11, 12, 13]\n"
     ]
    },
    {
     "data": {
      "image/png": "[encoded data removed]",
      "text/plain": [
       "<Figure size 432x288 with 1 Axes>"
      ]
     },
     "metadata": {
      "needs_background": "light"
     },
     "output_type": "display_data"
    }
   ],
   "source": [
    "import matplotlib.pyplot as plt\n",
    "import array \n",
    "\n",
    "def skew_diagram(dna,  z):\n",
    "    x = [z+1]\n",
    "    y = [z+1]\n",
    "    n = 0\n",
    "    y[0] = 0\n",
    "    x[0] = 0\n",
    "    i=0\n",
    "    while i < z:\n",
    "        if(dna[i] == 'C'):\n",
    "            n = n-1\n",
    "            y.append(n)\n",
    "        elif(dna[i] == 'G'):\n",
    "            n = n+1\n",
    "            y.append(n) \n",
    "        else:\n",
    "            y.append(n)\n",
    "\n",
    "        x.append(i+1)\n",
    "        i+=1\n",
    "        \n",
    "    print(y)\n",
    "    print(x)\n",
    "    plt.plot(x, y, color='blue', linewidth = 3, \n",
    "             marker='o', markerfacecolor='green', markersize=5)\n",
    "    plt.ylim(-10,10)\n",
    "    #plt.xlim(0,15)\n",
    "    plt.xlabel('DNA STRING POINT') \n",
    "    plt.ylabel('SKEW Diagram Point') \n",
    "    plt.title('SKEW Diagram') \n",
    "    plt.show() \n",
    "\n",
    "\n",
    "print(\"Enter Your Dna String :\")\n",
    "dna = [100]\n",
    "dna   = input()\n",
    "z = len(dna)\n",
    "print(\"DNA STRING LENGTH : \",z)\n",
    "\n",
    "skew_diagram(dna, z)\n",
    "\n",
    "#ATCCCGGTACGGC"
   ]
  },
  {
   "cell_type": "code",
   "execution_count": null,
   "metadata": {},
   "outputs": [],
   "source": []
  }
 ],
 "metadata": {
  "kernelspec": {
   "display_name": "Python 3",
   "language": "python",
   "name": "python3"
  },
  "language_info": {
   "codemirror_mode": {
    "name": "ipython",
    "version": 3
   },
   "file_extension": ".py",
   "mimetype": "text/x-python",
   "name": "python",
   "nbconvert_exporter": "python",
   "pygments_lexer": "ipython3",
   "version": "3.7.1"
  }
 },
 "nbformat": 4,
 "nbformat_minor": 2
}
